{
 "cells": [
  {
   "cell_type": "code",
   "execution_count": 269,
   "metadata": {
    "collapsed": true
   },
   "outputs": [],
   "source": [
    "import pandas as pd\n",
    "import numpy as np\n",
    "from sklearn import preprocessing\n",
    "import subprocess\n",
    "\n",
    "SCAP = 94140000 # salary cap\n",
    "LTL = 113290000 # luxury tax limit\n",
    "CHEAP = 5000000\n",
    "CHEAP2 = 20000000\n",
    "CHEAP3 = 65000000\n",
    "EXP = 200000000\n",
    "EXP2 = 500000000\n",
    "EXP3 = 1000000000\n",
    "MP = 15 # max players\n",
    "Z=2 # min position players"
   ]
  },
  {
   "cell_type": "code",
   "execution_count": 201,
   "metadata": {
    "collapsed": true
   },
   "outputs": [],
   "source": [
    "def get_pid(player, df):\n",
    "    return df[df['Player'] == player].index.tolist()[0]\n",
    "\n",
    "def get_cid(column, df):\n",
    "    return np.where(df.columns == column)[0] + 1\n",
    "\n",
    "def get_salary(player, df):\n",
    "    return int(df[df['Player'] == player]['2016-17'].tolist()[0][1:])"
   ]
  },
  {
   "cell_type": "code",
   "execution_count": 202,
   "metadata": {
    "collapsed": true
   },
   "outputs": [],
   "source": [
    "df = pd.read_csv('bball_data.csv')\n",
    "salaries = pd.read_csv('bball_salaries.csv')"
   ]
  },
  {
   "cell_type": "code",
   "execution_count": 268,
   "metadata": {
    "collapsed": false
   },
   "outputs": [],
   "source": [
    "single = lambda x: x.unique()[0]\n",
    "wavg = lambda x: (x * df.ix[x.index]['G']).sum()/df.ix[x.index]['G'].sum()\n",
    "cleaned = df.groupby(['Rk'], as_index=False).agg(\n",
    "    {'Player': single,\n",
    "     'Pos': single,\n",
    "     'Age': single,\n",
    "     'G': np.sum,\n",
    "     'GS': np.sum,\n",
    "     'MP': wavg,\n",
    "     'FG': wavg,\n",
    "     'FGA': wavg,\n",
    "     'FG%': wavg,\n",
    "     '3P': wavg,\n",
    "     '3PA': wavg,\n",
    "     '3P%': wavg,\n",
    "     '2P': wavg,\n",
    "     '2PA': wavg,\n",
    "     '2P%': wavg,\n",
    "     'eFG%': wavg,\n",
    "     'FT': wavg,\n",
    "     'FTA': wavg,\n",
    "     'FT%': wavg,\n",
    "     'ORB': wavg,\n",
    "     'DRB': wavg,\n",
    "     'TRB': wavg,\n",
    "     'AST': wavg,\n",
    "     'STL': wavg,\n",
    "     'BLK': wavg,\n",
    "     'TOV': wavg,\n",
    "     'PF': wavg,\n",
    "     'PS/G': wavg})"
   ]
  },
  {
   "cell_type": "code",
   "execution_count": 270,
   "metadata": {
    "collapsed": false
   },
   "outputs": [],
   "source": [
    "pos = cleaned['Pos'].unique()"
   ]
  },
  {
   "cell_type": "code",
   "execution_count": 271,
   "metadata": {
    "collapsed": false
   },
   "outputs": [],
   "source": [
    "cleaned.dropna(inplace=True) # removing players from consideration that have NaN for a certain stat\n",
    "textdata = cleaned[['Pos', 'Player']].copy()\n",
    "cleaned.drop(['Rk', 'G', 'GS', 'MP', 'Age', 'Pos', 'Player'],\n",
    "             axis=1, inplace=True)\n",
    "scaler = preprocessing.MinMaxScaler()\n",
    "cleaned = pd.DataFrame(scaler.fit_transform(cleaned),\n",
    "                       columns = cleaned.columns, index=cleaned.index)"
   ]
  },
  {
   "cell_type": "code",
   "execution_count": 272,
   "metadata": {
    "collapsed": false
   },
   "outputs": [],
   "source": [
    "cleaned = cleaned.join(textdata)\n",
    "cleaned.rename(columns={'FT%':'FTP', 'eFG%': 'eFGP',\n",
    "                        '2P%': 'TWPP', 'THP%': 'THPP',\n",
    "                        'FG%':'FGP', 'THP': 'THP',\n",
    "                        '2PA': 'TWPA', '3PA':'THPA', \n",
    "                        '2P': 'TWP', 'PS/G': 'PSG'}, inplace=True)\n",
    "# cleaned.columns"
   ]
  },
  {
   "cell_type": "code",
   "execution_count": 267,
   "metadata": {
    "collapsed": false,
    "scrolled": false
   },
   "outputs": [
    {
     "name": "stderr",
     "output_type": "stream",
     "text": [
      "/usr/local/lib/python3.5/site-packages/ipykernel/__main__.py:25: VisibleDeprecationWarning: converting an array with ndim > 0 to an index will result in an error in the future\n",
      "/usr/local/lib/python3.5/site-packages/ipykernel/__main__.py:33: VisibleDeprecationWarning: converting an array with ndim > 0 to an index will result in an error in the future\n"
     ]
    }
   ],
   "source": [
    "coeffs = {\n",
    "    'AST': 2.5,\n",
    "    'TRB': 2.25,\n",
    "    'PSG': 2,\n",
    "    'THP': 1.5,\n",
    "    'STL': 3,\n",
    "    'BLK': 3,\n",
    "    'TOV': -1.5,\n",
    "    'PF': -1,\n",
    "}\n",
    "plims = {\n",
    "    '0' : '',\n",
    "    '1' : '',\n",
    "    '2' : '',\n",
    "    '3' : '',\n",
    "    '4' : '',\n",
    "}\n",
    "of = 'max: '\n",
    "c1 = ''\n",
    "c2 = ''\n",
    "vrs = 'bin '\n",
    "for r in cleaned.itertuples():\n",
    "    p = str(np.where(pos == r[get_cid('Pos', cleaned)])[0][0])\n",
    "    R = 'R' + str(r[0]) + p\n",
    "    v = 0\n",
    "    for i in cleaned.columns:\n",
    "        if get_cid(i, cleaned) < 23:\n",
    "            c = 1\n",
    "            if i in coeffs:\n",
    "                c = coeffs[i]\n",
    "            v += c * r[get_cid(i, cleaned)]\n",
    "    of += ' ' + str(v) + ' ' + R + ' +'\n",
    "    c1 += str(get_salary(r[24], salaries)) + ' ' + R + ' + '\n",
    "    c2 += R + ' + '\n",
    "    vrs += R + ', '\n",
    "    plims[p] += R + ' + '\n",
    "            \n",
    "#     print(get_salary(r[get_cid('Player', cleaned)], salaries))\n",
    "of = of[:-2] + ';'\n",
    "c1 = c1[:-2] + '<=' + str(EXP3) + ';' #CHANGE HERE FOR BUDGET DIFFERENCES\n",
    "c2 = c2[:-2] + '<=' + str(MP) + ';'\n",
    "vrs = vrs[:-2] + ';'\n",
    "# print(of)"
   ]
  },
  {
   "cell_type": "code",
   "execution_count": 266,
   "metadata": {
    "collapsed": false
   },
   "outputs": [],
   "source": [
    "for k, v in plims.items():\n",
    "    plims[k] = v[:-2] + '>=' + str(Z) + ';'\n",
    "#     print(plims[k])"
   ]
  },
  {
   "cell_type": "code",
   "execution_count": 265,
   "metadata": {
    "collapsed": false
   },
   "outputs": [],
   "source": [
    "# print(c1)"
   ]
  },
  {
   "cell_type": "code",
   "execution_count": 264,
   "metadata": {
    "collapsed": false
   },
   "outputs": [],
   "source": [
    "# print(c2)"
   ]
  },
  {
   "cell_type": "code",
   "execution_count": 263,
   "metadata": {
    "collapsed": false
   },
   "outputs": [],
   "source": [
    "# print(vrs)"
   ]
  },
  {
   "cell_type": "code",
   "execution_count": 273,
   "metadata": {
    "collapsed": true
   },
   "outputs": [],
   "source": [
    "# simple file logic\n",
    "\n",
    "# try:\n",
    "#     with open('simpleLP2_X.txt', 'wx') as f: # change 'X' to iteration identifier\n",
    "#         f.write(of + '\\n')\n",
    "#         f.write(c1 + '\\n')\n",
    "#         f.write(c2 + '\\n')\n",
    "#         f.write(vrs + '\\n')\n",
    "#     subprocess.run('./lpsolve simpleLP2_X.txt > simpleLP2_X_a.txt') # not tested, but you get the idea...\n",
    "# except FileExistsError:\n",
    "#     print('That file already exists! Pick a new name...')\n",
    "#     print('Failed to write file!')"
   ]
  },
  {
   "cell_type": "code",
   "execution_count": 259,
   "metadata": {
    "collapsed": false
   },
   "outputs": [
    {
     "name": "stdout",
     "output_type": "stream",
     "text": [
      "Giannis Antetokounmpo\\antetgi01\n",
      "Jimmy Butler\\butleji01\n",
      "DeMarcus Cousins\\couside01\n",
      "Stephen Curry\\curryst01\n",
      "Anthony Davis\\davisan02\n",
      "DeMar DeRozan\\derozde01\n",
      "Kevin Durant\\duranke01\n",
      "James Harden\\hardeja01\n",
      "LeBron James\\jamesle01\n",
      "Kawhi Leonard\\leonaka01\n",
      "Kevin Love\\loveke01\n",
      "Paul Millsap\\millspa01\n",
      "Karl-Anthony Towns\\townska01\n",
      "John Wall\\walljo01\n",
      "Russell Westbrook\\westbru01\n",
      "290652320\n"
     ]
    }
   ],
   "source": [
    "# The results of some different LPs...\n",
    "players11 = [15, 64, 95, 247, 273, 327, 342, 397, 404, 427]\n",
    "players12 = [15, 64, 147, 247, 273, 327, 342, 397, 404, 427]\n",
    "players21 = [15, 86, 87, 93, 95, 118, 147, 220, 273, 327, 342, 397, 404, 407, 424] # scap\n",
    "players22 = [15, 86, 87, 93, 95, 118, 147, 273, 327, 340, 342, 397, 404, 407, 422] #ltl\n",
    "players23 = [108, 129, 206, 239, 279, 284, 296, 302, 306, 346, 399, 428, 438, 439] #cheap\n",
    "players24 = [15, 55, 87, 108, 147, 158, 220, 224, 232, 273, 303, 346, 351, 407, 439] #cheap2\n",
    "players25 = [15, 51, 86, 87, 106, 118, 147, 220, 273, 340, 342, 370, 397, 404, 407] #cheap3\n",
    "players26 = [15, 64, 86, 95, 114, 118, 147, 164, 247, 273, 327, 342, 404, 422, 427] #EXP\n",
    "players27 = [15, 64, 86, 93, 95, 103, 114, 164, 208, 247, 258, 289, 404, 422, 427] #EXP2\n",
    "players28 = [15, 64, 86, 93, 95, 103, 114, 164, 208, 247, 258, 289, 404, 422, 427] #EXP3 Same as above!\n",
    "total_salary = 0\n",
    "for pl in players27:\n",
    "    pls = cleaned.loc[pl]['Player']\n",
    "    print(pls)\n",
    "    total_salary += int(get_salary(pls, salaries))\n",
    "print(total_salary)"
   ]
  },
  {
   "cell_type": "code",
   "execution_count": 240,
   "metadata": {
    "collapsed": true
   },
   "outputs": [],
   "source": [
    "cost1 = [92305992, 112301454]\n",
    "value1 = [142.00936028, 146.84077117]\n",
    "cost2 = [4926626, 19937527, 64998342, 93555745, 112920206, 199657770, 290652320]\n",
    "value2 = [74.57695501, 146.15246622, 188.37375013, 199.65147302, 205.53770810, 224.22243852, 229.30263647]"
   ]
  },
  {
   "cell_type": "code",
   "execution_count": null,
   "metadata": {
    "collapsed": true
   },
   "outputs": [],
   "source": [
    "# simplelp1_LTL\n",
    "# Value of objective function: 146.84077117\n",
    "\n",
    "# Actual values of the variables:\n",
    "\n",
    "# R150                            1\n",
    "\n",
    "# R643                            1\n",
    "\n",
    "# R952                            1\n",
    "\n",
    "# R2473                           1\n",
    "\n",
    "# R2730                           1\n",
    "\n",
    "# R3271                           1\n",
    "\n",
    "# R3421                           1\n",
    "\n",
    "# R3974                           1\n",
    "\n",
    "# R4042                           1\n",
    "\n",
    "# R4274                           1\n",
    "\n",
    "# simplelp1_SCAP\n",
    "# Value of objective function: 142.00936028\n",
    "\n",
    "# Actual values of the variables:\n",
    "\n",
    "# R150                            1\n",
    "\n",
    "# R643                            1\n",
    "\n",
    "# R1472                           1\n",
    "\n",
    "# R2473                           1\n",
    "\n",
    "# R2730                           1\n",
    "\n",
    "# R3271                           1\n",
    "\n",
    "# R3421                           1\n",
    "\n",
    "# R3974                           1\n",
    "\n",
    "# R4042                           1\n",
    "\n",
    "# R4274                           1"
   ]
  }
 ],
 "metadata": {
  "kernelspec": {
   "display_name": "Python 3",
   "language": "python",
   "name": "python3"
  },
  "language_info": {
   "codemirror_mode": {
    "name": "ipython",
    "version": 3
   },
   "file_extension": ".py",
   "mimetype": "text/x-python",
   "name": "python",
   "nbconvert_exporter": "python",
   "pygments_lexer": "ipython3",
   "version": "3.5.2"
  }
 },
 "nbformat": 4,
 "nbformat_minor": 0
}
